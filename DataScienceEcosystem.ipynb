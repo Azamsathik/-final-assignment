{
 "cells": [
  {
   "cell_type": "markdown",
   "id": "4f91bc46",
   "metadata": {},
   "source": [
    "# Data Science Tools and Ecosystem"
   ]
  },
  {
   "cell_type": "markdown",
   "id": "b2fabffa",
   "metadata": {},
   "source": [
    "In this notebook, Data Science Tools and Ecosystem are summarized."
   ]
  },
  {
   "cell_type": "markdown",
   "id": "200706f0",
   "metadata": {},
   "source": [
    "**Objectives:**\n",
    "+ List popular languages for Data Science\n",
    "+ List popular Library for Data Science\n",
    "+ Pythone Arithmetic Opperaters \n",
    "+ Data Science Tools "
   ]
  },
  {
   "cell_type": "markdown",
   "id": "a8218486",
   "metadata": {},
   "source": [
    "Some of the popular languages that Data Scientists use are:"
   ]
  },
  {
   "cell_type": "markdown",
   "id": "7d77417f",
   "metadata": {},
   "source": [
    "1. python\n",
    "2. R\n",
    "3. Scala"
   ]
  },
  {
   "cell_type": "markdown",
   "id": "00559f4e",
   "metadata": {},
   "source": [
    "Some of the commonly used libraries used by Data Scientists include:\n",
    "1. tensorflow\n",
    "2. Numpy\n",
    "3. SciPy"
   ]
  },
  {
   "cell_type": "markdown",
   "id": "e37e6e69",
   "metadata": {},
   "source": [
    "| Data Science Tools |\n",
    "|---------------------|\n",
    "| RStudio|\n",
    "|Jupyter Notebook |\n",
    "|Matplotlib|\n"
   ]
  },
  {
   "cell_type": "markdown",
   "id": "b18f17f2",
   "metadata": {},
   "source": [
    "### Below are a few examples of evaluating arithmetic expressions in Python\n",
    "\n",
    "1.  addition \n",
    "x = 2\n",
    "y = 3\n",
    "z = x + y\n",
    "print(z)  # Output: 5\n",
    "\n",
    "2.  substraction \n",
    "x = 5\n",
    "y = 2\n",
    "z = x - y\n",
    "print(z)  # Output: 3\n",
    "\n",
    "3.  multiplication \n",
    "x = 3\n",
    "y = 4\n",
    "z = x * y\n",
    "print(z)  # Output: 12\n",
    "\n",
    "4.  division \n",
    "x = 10\n",
    "y = 2\n",
    "z = x / y\n",
    "print(z)  # Output: 5.0\n",
    "\n"
   ]
  },
  {
   "cell_type": "code",
   "execution_count": 3,
   "id": "8c074c3c",
   "metadata": {},
   "outputs": [
    {
     "data": {
      "text/plain": [
       "17"
      ]
     },
     "execution_count": 3,
     "metadata": {},
     "output_type": "execute_result"
    }
   ],
   "source": [
    "# This a simple arithmetic expression to mutiply then add integers\n",
    "\n",
    "(3*4)+5"
   ]
  },
  {
   "cell_type": "code",
   "execution_count": 4,
   "id": "0d6b4cae",
   "metadata": {},
   "outputs": [
    {
     "data": {
      "text/plain": [
       "3.3333333333333335"
      ]
     },
     "execution_count": 4,
     "metadata": {},
     "output_type": "execute_result"
    }
   ],
   "source": [
    "# This will convert 200 minutes to hours by diving by 60\n",
    "200/60"
   ]
  },
  {
   "cell_type": "markdown",
   "id": "56ff19ef",
   "metadata": {},
   "source": [
    "## Author :\n",
    "Azam Sathik "
   ]
  },
  {
   "cell_type": "code",
   "execution_count": null,
   "id": "2e1ecba3",
   "metadata": {},
   "outputs": [],
   "source": []
  }
 ],
 "metadata": {
  "kernelspec": {
   "display_name": "Python 3 (ipykernel)",
   "language": "python",
   "name": "python3"
  },
  "language_info": {
   "codemirror_mode": {
    "name": "ipython",
    "version": 3
   },
   "file_extension": ".py",
   "mimetype": "text/x-python",
   "name": "python",
   "nbconvert_exporter": "python",
   "pygments_lexer": "ipython3",
   "version": "3.9.16"
  }
 },
 "nbformat": 4,
 "nbformat_minor": 5
}
